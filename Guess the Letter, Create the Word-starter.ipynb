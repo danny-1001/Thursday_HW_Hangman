{
 "cells": [
  {
   "cell_type": "markdown",
   "metadata": {},
   "source": [
    "**Create a Letter Guessing Game**\n",
    "\n",
    "Create a program that allows a user 7 chances to guess the correct word. If they do not guess the word after 7 tries, the player loses and the program will print the correct word. Otherwise, the play wins and the game.\n",
    "\n",
    "**How to build the program**\n",
    "* When you start the game, you will need to select a random word from a list of at least 10 words (You have full control over which words you want to use for you program). This will be your secret word. Your secret word will be represented in the program as a group of underscores. For as long as the word is, you should also have that many underscores. \n",
    "\n",
    "* Once the word is selected, your game will commence. Perform a Google search to figure out how to select a random word from a list using Python.<br>\n",
    "**Hint** There's package you can import into your application that does this for you.\n",
    "\n",
    "* The end user will have a total of 7 chances to guess the correct letter from the secret word. If the end user makes 7 incorrect guesses, the game will end.\n",
    "\n",
    "* As you guess the correct letters, the letters you have guess will then take place of the underscores that letter represents. <br>\n",
    "**For Example**: If your secret word is 'watermelon' and  so far you have guessed the letters 'a' and 'e', the word you're trying to guess will appear as follows: _ a _ e _ _ e _ _ _.<br>\n",
    "**Keep in mind** that if you guess a letter that appears more than once in your secret word, make sure that the letter is populated anywhere that letter would be."
   ]
  },
  {
   "cell_type": "code",
   "execution_count": 35,
   "metadata": {},
   "outputs": [
    {
     "name": "stdout",
     "output_type": "stream",
     "text": [
      "Word is: cat\n",
      "Guess the characters\n"
     ]
    },
    {
     "ename": "SyntaxError",
     "evalue": "'break' outside loop (<ipython-input-35-1bdf934eebb8>, line 7)",
     "output_type": "error",
     "traceback": [
      "\u001b[0;36m  File \u001b[0;32m\"<ipython-input-35-1bdf934eebb8>\"\u001b[0;36m, line \u001b[0;32m7\u001b[0m\n\u001b[0;31m    break\u001b[0m\n\u001b[0m    ^\u001b[0m\n\u001b[0;31mSyntaxError\u001b[0m\u001b[0;31m:\u001b[0m 'break' outside loop\n"
     ]
    }
   ],
   "source": [
    "import random\n",
    "\n",
    "WordList = ['cat','dog','Gamestop','AMC','Dodgecoin','water','lawyer','starter','program','apple']\n",
    "print('Word is:', random.choice(WordList))\n",
    "\n",
    "print(\"Guess the characters\")\n",
    "\n",
    "\n",
    "\n",
    " # any number of turns can be used here\n",
    "turns = 12\n",
    "while turns > 0:\n",
    "     \n",
    "    # counts the number of times a user fails\n",
    "    failed = 0\n",
    "     \n",
    "    # all characters from the input\n",
    "    # word taking one at a time.\n",
    "    word = random.choice(WordList)\n",
    "    for char in word: \n",
    "         \n",
    "        # comparing that character with\n",
    "        # the character in guesses\n",
    "        guesses = ''\n",
    "        if char in guesses: \n",
    "            print(char)\n",
    "             \n",
    "        else: \n",
    "            print(\"_\")\n",
    "             \n",
    "            # for every failure 1 will be\n",
    "            # incremented in failure\n",
    "            failed += 1\n",
    "             \n",
    " \n",
    "        if failed == 0:\n",
    "        # user will win the game if failure is 0\n",
    "        # and 'You Win' will be given as output\n",
    "            print(\"You Win\") \n",
    "         \n",
    "        # this print the correct word\n",
    "        print(\"The word is: \", word) \n",
    "        break\n",
    "     \n",
    "    # if user has input the wrong alphabet then\n",
    "    # it will ask user to enter another alphabet\n",
    "guess = input(\"guess a character:\")\n",
    "     \n",
    "    # every input character will be stored in guesses \n",
    "guesses += guess \n",
    "     \n",
    "    # check input with the character in word\n",
    "if guess not in word:\n",
    "         \n",
    "        turns -= 1\n",
    "         \n",
    "        # if the character doesn’t match the word\n",
    "        # then “Wrong” will be given as output \n",
    "        print(\"Wrong\")\n",
    "         \n",
    "        # this will print the number of\n",
    "        # turns left for the user\n",
    "        print(\"You have\", + turns, 'more guesses')\n",
    "         \n",
    "         \n",
    "        if turns == 0:\n",
    "            print(\"You Loose\")\n",
    "\n"
   ]
  },
  {
   "cell_type": "code",
   "execution_count": 7,
   "metadata": {},
   "outputs": [
    {
     "name": "stdout",
     "output_type": "stream",
     "text": [
      "['book', 'pen', 'paper', 'pencil']\n",
      "paper\n"
     ]
    }
   ],
   "source": []
  },
  {
   "cell_type": "code",
   "execution_count": 14,
   "metadata": {},
   "outputs": [
    {
     "ename": "SyntaxError",
     "evalue": "invalid character in identifier (<ipython-input-14-9d911a085c2c>, line 3)",
     "output_type": "error",
     "traceback": [
      "\u001b[0;36m  File \u001b[0;32m\"<ipython-input-14-9d911a085c2c>\"\u001b[0;36m, line \u001b[0;32m3\u001b[0m\n\u001b[0;31m    underscores = “_“*counter\u001b[0m\n\u001b[0m                    ^\u001b[0m\n\u001b[0;31mSyntaxError\u001b[0m\u001b[0;31m:\u001b[0m invalid character in identifier\n"
     ]
    }
   ],
   "source": [
    "def make_underscores(variable):\n",
    "    counter = len(variable)\n",
    "    underscores = “_“*counter\n",
    "    print(underscores)\n",
    "make_underscores(‘cat’)\n",
    "white_check_mark\n",
    "eyes\n",
    "raised_hands\n",
    "\n",
    "\n",
    "\n",
    "\n",
    "\n",
    "2:35\n",
    "def make_underscores(variable):\n",
    "    counter = len(variable)\n",
    "    underscores = “_ “*counter\n",
    "    print(underscores)"
   ]
  },
  {
   "cell_type": "code",
   "execution_count": null,
   "metadata": {},
   "outputs": [],
   "source": []
  }
 ],
 "metadata": {
  "kernelspec": {
   "display_name": "Python 3",
   "language": "python",
   "name": "python3"
  },
  "language_info": {
   "codemirror_mode": {
    "name": "ipython",
    "version": 3
   },
   "file_extension": ".py",
   "mimetype": "text/x-python",
   "name": "python",
   "nbconvert_exporter": "python",
   "pygments_lexer": "ipython3",
   "version": "3.8.5"
  }
 },
 "nbformat": 4,
 "nbformat_minor": 2
}
