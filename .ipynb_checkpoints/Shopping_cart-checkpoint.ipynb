{
 "cells": [
  {
   "cell_type": "code",
   "execution_count": null,
   "id": "excess-edgar",
   "metadata": {},
   "outputs": [
    {
     "name": "stdout",
     "output_type": "stream",
     "text": [
      "\n",
      "Shopping cart Options\n",
      "1:Add Item\n",
      "2:Delete Item\n",
      "3:View cart\n",
      "4:Quit \n",
      "\n",
      "      \n",
      "\n",
      "Enter an option: 1\n",
      "Enter an item: apple\n",
      "Enter quantity: 3\n"
     ]
    }
   ],
   "source": [
    "shopping_cart = {} #this is an empty dictionary \n",
    "\n",
    "#{key:value} e.g {\"apples\" : 5, \"bananas\" : 3}\n",
    "\n",
    "print(\"\"\"\n",
    "Shopping cart Options\n",
    "1:Add Item\n",
    "2:Delete Item\n",
    "3:View cart\n",
    "4:Quit \n",
    "\n",
    "      \n",
    "\"\"\")\n",
    "\n",
    "option = int(input(\"Enter an option: \"))\n",
    "while option != 0:\n",
    "    if option == 1:\n",
    "        item = input(\"Enter an item: \")\n",
    "        qnty = int(input(\"Enter quantity: \"))\n",
    "        shopping_cart[item] = qnty\n",
    "        \n",
    "    elif option == 2:\n",
    "        item = input(\"Enter an item: \")\n",
    "        del(shoppping_cart[item])\n",
    "        \n",
    "    elif option == 3: \n",
    "        for item in shopping_cart:\n",
    "            print(item, \":\",shopping_basket[item])\n",
    "            \n",
    "    elif option != 0:\n",
    "        \n",
    "        print(\"Shopping cart program closed.\")\n",
    "    "
   ]
  },
  {
   "cell_type": "code",
   "execution_count": null,
   "id": "lovely-formation",
   "metadata": {},
   "outputs": [],
   "source": [
    "\n"
   ]
  },
  {
   "cell_type": "code",
   "execution_count": null,
   "id": "royal-kenya",
   "metadata": {},
   "outputs": [],
   "source": []
  },
  {
   "cell_type": "code",
   "execution_count": null,
   "id": "crude-nature",
   "metadata": {},
   "outputs": [],
   "source": []
  },
  {
   "cell_type": "code",
   "execution_count": null,
   "id": "determined-context",
   "metadata": {},
   "outputs": [],
   "source": []
  }
 ],
 "metadata": {
  "kernelspec": {
   "display_name": "Python 3",
   "language": "python",
   "name": "python3"
  },
  "language_info": {
   "codemirror_mode": {
    "name": "ipython",
    "version": 3
   },
   "file_extension": ".py",
   "mimetype": "text/x-python",
   "name": "python",
   "nbconvert_exporter": "python",
   "pygments_lexer": "ipython3",
   "version": "3.9.1"
  }
 },
 "nbformat": 4,
 "nbformat_minor": 5
}
