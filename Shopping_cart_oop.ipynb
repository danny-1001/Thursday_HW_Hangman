{
 "cells": [
  {
   "cell_type": "code",
   "execution_count": null,
   "metadata": {},
   "outputs": [
    {
     "name": "stdout",
     "output_type": "stream",
     "text": [
      "==================================================\n",
      "Type 'add' to add item to cart.\n",
      "Type 'remove' to add item from cart.\n",
      "Type 'show' to view all items in your cart.\n",
      "Type 'quit' to exit program and show your list.\n",
      "==================================================\n"
     ]
    }
   ],
   "source": [
    "from IPython.display import clear_output as co\n",
    "\n",
    "\n",
    "def add_item(a_dict, cat, _to_add):\n",
    "    a_dict[cat].append(_to_add)\n",
    "\n",
    "def remove_item(a_dict, item_to_remove):\n",
    "    for k, v in a_dict.items():\n",
    "        for item in v:\n",
    "            if item == item_to_remove:\n",
    "                v.remove(item)\n",
    "\n",
    "def show_list(a_dict):\n",
    "    for k, v in a_dict.items():\n",
    "        new_list = list(set(v))\n",
    "        print(f'{k.title()}:')\n",
    "        for idx, item in enumerate(new_list): \n",
    "            print(f\"{idx+1}: {item} [{v.count(item)}]\")\n",
    "        print()\n",
    "\n",
    "        \n",
    "def show_instructions():\n",
    "    print(\"=\" * 50)\n",
    "    print(\"\"\"Type 'add' to add item to cart.\n",
    "Type 'remove' to add item from cart.\n",
    "Type 'show' to view all items in your cart.\n",
    "Type 'quit' to exit program and show your list.\"\"\")\n",
    "    print(\"=\" * 50)\n",
    "\n",
    "        \n",
    "shopping_cart = dict()\n",
    "\n",
    "done = False\n",
    "while not done:\n",
    "    show_instructions()\n",
    "    ask = input(\"Type the command you'd like to run \").lower()\n",
    "    co()\n",
    "    \n",
    "    if ask == 'quit':\n",
    "        show_list(shopping_cart)\n",
    "        done = True\n",
    "    elif ask == 'add':\n",
    "        cat = input('What category does the item belong to? ')\n",
    "        item = input('What item would you like to add? ')\n",
    "        \n",
    "        if cat not in shopping_cart:\n",
    "            shopping_cart[cat] = []\n",
    "        add_item(shopping_cart, cat, item)\n",
    "        show_list(shopping_cart)\n",
    "    elif ask == 'remove':\n",
    "        item = input('What item would you like to remove? ')\n",
    "        remove_item(shopping_cart, item)\n",
    "        show_list(shopping_cart)\n",
    "\n"
   ]
  },
  {
   "cell_type": "code",
   "execution_count": null,
   "metadata": {},
   "outputs": [],
   "source": [
    "class Cart:\n",
    "    pass\n",
    "\n",
    "class CartItem:\n",
    "    def __init__(self, items):\n",
    "        self.items = items\n",
    "\n",
    "data = input('item ')\n",
    "def get_items(self):\n",
    "        return self.items\n",
    "    get_\n",
    "c = CartItem(data)\n",
    "c "
   ]
  },
  {
   "cell_type": "code",
   "execution_count": null,
   "metadata": {},
   "outputs": [],
   "source": [
    "\n"
   ]
  },
  {
   "cell_type": "code",
   "execution_count": null,
   "metadata": {},
   "outputs": [],
   "source": []
  }
 ],
 "metadata": {
  "kernelspec": {
   "display_name": "Python 3",
   "language": "python",
   "name": "python3"
  },
  "language_info": {
   "codemirror_mode": {
    "name": "ipython",
    "version": 3
   },
   "file_extension": ".py",
   "mimetype": "text/x-python",
   "name": "python",
   "nbconvert_exporter": "python",
   "pygments_lexer": "ipython3",
   "version": "3.8.5"
  }
 },
 "nbformat": 4,
 "nbformat_minor": 4
}
